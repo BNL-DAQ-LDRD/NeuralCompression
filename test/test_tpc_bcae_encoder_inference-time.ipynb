{
 "cells": [
  {
   "cell_type": "code",
   "execution_count": 13,
   "id": "5e580152-08c2-4415-ab05-6af5fe83fe64",
   "metadata": {},
   "outputs": [],
   "source": [
    "from subprocess import check_output\n",
    "import numpy as np\n",
    "import pandas as pd"
   ]
  },
  {
   "cell_type": "code",
   "execution_count": 14,
   "id": "b89a71a7-20de-44c2-834c-656482210de6",
   "metadata": {},
   "outputs": [],
   "source": [
    "import matplotlib.pyplot as plt\n",
    "%matplotlib inline"
   ]
  },
  {
   "cell_type": "code",
   "execution_count": 31,
   "id": "ff7de2b0-89c9-44ac-b1d9-ee2f5abd33f8",
   "metadata": {},
   "outputs": [],
   "source": [
    "batch_sizes = [16, 32, 64, 128]"
   ]
  },
  {
   "cell_type": "code",
   "execution_count": 32,
   "id": "d3406c19-1edb-4ccf-80db-ceb7073bbde8",
   "metadata": {},
   "outputs": [
    {
     "name": "stdout",
     "output_type": "stream",
     "text": [
      "16\n",
      "batch size = 16, time per image = 0.002079s\n",
      "32\n",
      "batch size = 32, time per image = 0.002292s\n",
      "64\n",
      "batch size = 64, time per image = 0.002217s\n",
      "128\n",
      "batch size = 128, time per image = 0.00251s\n"
     ]
    }
   ],
   "source": [
    "time_per_image_list = []\n",
    "for batch_size in batch_sizes:\n",
    "    print(batch_size)\n",
    "\n",
    "    cmd = f'python ./test_tpc_bcae_encoder_inference-time.py {batch_size} cuda'\n",
    "    output = check_output(cmd, shell=True).decode('utf-8')\n",
    "    t = float(output.split()[-2])\n",
    "    \n",
    "    print(f'batch size = {batch_size}, time per image = {t}s')\n",
    "    time_per_image_list.append(t)"
   ]
  },
  {
   "cell_type": "code",
   "execution_count": 33,
   "id": "af3de719-b2ee-4d53-b340-2466cfc98991",
   "metadata": {},
   "outputs": [
    {
     "data": {
      "text/html": [
       "<div>\n",
       "<style scoped>\n",
       "    .dataframe tbody tr th:only-of-type {\n",
       "        vertical-align: middle;\n",
       "    }\n",
       "\n",
       "    .dataframe tbody tr th {\n",
       "        vertical-align: top;\n",
       "    }\n",
       "\n",
       "    .dataframe thead th {\n",
       "        text-align: right;\n",
       "    }\n",
       "</style>\n",
       "<table border=\"1\" class=\"dataframe\">\n",
       "  <thead>\n",
       "    <tr style=\"text-align: right;\">\n",
       "      <th></th>\n",
       "      <th>time_per_image</th>\n",
       "    </tr>\n",
       "  </thead>\n",
       "  <tbody>\n",
       "    <tr>\n",
       "      <th>cuda_16</th>\n",
       "      <td>0.002079</td>\n",
       "    </tr>\n",
       "    <tr>\n",
       "      <th>cuda_32</th>\n",
       "      <td>0.002292</td>\n",
       "    </tr>\n",
       "    <tr>\n",
       "      <th>cuda_64</th>\n",
       "      <td>0.002217</td>\n",
       "    </tr>\n",
       "    <tr>\n",
       "      <th>cuda_128</th>\n",
       "      <td>0.002510</td>\n",
       "    </tr>\n",
       "    <tr>\n",
       "      <th>cpu_32</th>\n",
       "      <td>0.023317</td>\n",
       "    </tr>\n",
       "  </tbody>\n",
       "</table>\n",
       "</div>"
      ],
      "text/plain": [
       "          time_per_image\n",
       "cuda_16         0.002079\n",
       "cuda_32         0.002292\n",
       "cuda_64         0.002217\n",
       "cuda_128        0.002510\n",
       "cpu_32          0.023317"
      ]
     },
     "execution_count": 33,
     "metadata": {},
     "output_type": "execute_result"
    }
   ],
   "source": [
    "df = pd.DataFrame(index=[f'cuda_{a}' for a in batch_sizes], columns=['time_per_image'], data = time_per_image_list)\n",
    "# 'cpu_32', 0.0233\n",
    "df.loc['cpu_32'] = 0.023317\n",
    "df"
   ]
  },
  {
   "cell_type": "code",
   "execution_count": null,
   "id": "97621d27-d572-4165-8b28-18aa622738fd",
   "metadata": {},
   "outputs": [],
   "source": []
  }
 ],
 "metadata": {
  "kernelspec": {
   "display_name": "Python 3 (ipykernel)",
   "language": "python",
   "name": "python3"
  },
  "language_info": {
   "codemirror_mode": {
    "name": "ipython",
    "version": 3
   },
   "file_extension": ".py",
   "mimetype": "text/x-python",
   "name": "python",
   "nbconvert_exporter": "python",
   "pygments_lexer": "ipython3",
   "version": "3.9.4"
  }
 },
 "nbformat": 4,
 "nbformat_minor": 5
}
