{
 "cells": [
  {
   "cell_type": "code",
   "execution_count": 1,
   "id": "b23f8055-3785-451d-95a4-4cd4fe6dafd8",
   "metadata": {},
   "outputs": [],
   "source": [
    "from torch.utils.data import DataLoader\n",
    "from data_splitter import Splitter\n",
    "\n",
    "import sys\n",
    "sys.path.append('/home/yhuang2/PROJs/NeuralCompression/neuralcompress/')\n",
    "\n",
    "from datasets.tpc_dataset import DatasetTPC3d"
   ]
  },
  {
   "cell_type": "code",
   "execution_count": 11,
   "id": "55787d76-705e-48e4-a73c-e26b47b6000f",
   "metadata": {},
   "outputs": [
    {
     "name": "stdout",
     "output_type": "stream",
     "text": [
      "1/10: 32\n",
      "2/10: 32\n",
      "3/10: 32\n",
      "4/10: 32\n",
      "5/10: 32\n",
      "6/10: 32\n",
      "7/10: 32\n",
      "8/10: 32\n",
      "9/10: 32\n",
      "10/10: 12\n",
      "\n",
      "1/4: 32\n",
      "2/4: 32\n",
      "3/4: 32\n",
      "4/4: 4\n",
      "\n",
      "1/4: 32\n",
      "2/4: 32\n",
      "3/4: 32\n",
      "4/4: 4\n",
      "\n"
     ]
    }
   ],
   "source": [
    "def get_dataloaders(\n",
    "    data_path,\n",
    "    shuffle=True,\n",
    "    rng_random_state=0,\n",
    "    max_sizes=None,\n",
    "    batch_size=32\n",
    "):\n",
    "    split_path = data_path\n",
    "    \n",
    "    splitter = Splitter(\n",
    "        frame_path, \n",
    "        split_path,\n",
    "        max_sizes=max_sizes, \n",
    "        shuffle=shuffle,\n",
    "        rng_random_state=rng_random_state\n",
    "    )\n",
    "    \n",
    "    splitter.split()\n",
    "\n",
    "    dataset_train = DatasetTPC3d(split_path, frame_path, split='train')\n",
    "    dataset_valid = DatasetTPC3d(split_path, frame_path, split='valid')\n",
    "    dataset_test  = DatasetTPC3d(split_path, frame_path, split='test' )\n",
    "\n",
    "    loader_train = DataLoader(dataset_train, batch_size=batch_size)\n",
    "    loader_valid = DataLoader(dataset_valid, batch_size=batch_size)\n",
    "    loader_test  = DataLoader(dataset_test,  batch_size=batch_size)\n",
    "    \n",
    "    loaders = [loader_train, loader_valid, loader_test]\n",
    "    return loaders\n",
    "\n",
    "    \n",
    "frame_path = '/data/datasets/sphenix/highest_framedata_3d/outer/'\n",
    "max_sizes = [300, 100, 100]\n",
    "shuffle = True\n",
    "rng_random_state = 0\n",
    "batch_size = 32\n",
    "\n",
    "loaders = get_dataloaders(\n",
    "    frame_path, \n",
    "    shuffle=shuffle, \n",
    "    rng_random_state=rng_random_state, \n",
    "    max_sizes=max_sizes, \n",
    "    batch_size=batch_size\n",
    ")\n",
    "\n",
    "for loader in loaders:\n",
    "    for i, batch in enumerate(loader):\n",
    "        print(f'{i + 1}/{len(loader)}: {len(batch)}')\n",
    "    print()"
   ]
  },
  {
   "cell_type": "code",
   "execution_count": null,
   "id": "dfbd994d-81d1-47a4-bb4d-67184b4b97f7",
   "metadata": {},
   "outputs": [],
   "source": []
  }
 ],
 "metadata": {
  "kernelspec": {
   "display_name": "Python 3",
   "language": "python",
   "name": "python3"
  },
  "language_info": {
   "codemirror_mode": {
    "name": "ipython",
    "version": 3
   },
   "file_extension": ".py",
   "mimetype": "text/x-python",
   "name": "python",
   "nbconvert_exporter": "python",
   "pygments_lexer": "ipython3",
   "version": "3.9.4"
  }
 },
 "nbformat": 4,
 "nbformat_minor": 5
}
