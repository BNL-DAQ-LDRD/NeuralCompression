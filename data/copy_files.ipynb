{
 "cells": [
  {
   "cell_type": "code",
   "execution_count": 14,
   "id": "7d402115-8ecc-4407-b456-6cc7025e1ce5",
   "metadata": {},
   "outputs": [],
   "source": [
    "from pathlib import Path\n",
    "import random\n",
    "import shutil"
   ]
  },
  {
   "cell_type": "code",
   "execution_count": 4,
   "id": "3e0a3c3a-7a14-418c-aaff-158aa5b7dc5f",
   "metadata": {},
   "outputs": [],
   "source": [
    "data_root = Path('/data/datasets/sphenix/highest_framedata_3d/outer/')\n",
    "test_manifest = data_root/'test.txt'"
   ]
  },
  {
   "cell_type": "code",
   "execution_count": 12,
   "id": "339d3c34-5556-48c3-9262-82e105cbb06e",
   "metadata": {},
   "outputs": [],
   "source": [
    "fnames = []\n",
    "with open(test_manifest, 'r') as fh:\n",
    "    for line in fh:\n",
    "        fname = Path(line.strip())\n",
    "        fnames.append(fname)"
   ]
  },
  {
   "cell_type": "code",
   "execution_count": 23,
   "id": "b9c999cd-8a63-4c3a-82df-9bdb531b168e",
   "metadata": {},
   "outputs": [],
   "source": [
    "def process_fname(fname):\n",
    "    result = str(fname).replace(str(data_root) + '/', '')\n",
    "    result = 'outer_' + result.replace('/', '_')\n",
    "    return result"
   ]
  },
  {
   "cell_type": "code",
   "execution_count": 33,
   "id": "2ccb8b58-f289-4089-97db-4425093759ac",
   "metadata": {},
   "outputs": [],
   "source": [
    "N = 8\n",
    "manifest_fnames = []\n",
    "fnames_sel = random.sample(fnames, N)\n",
    "for src in fnames_sel:\n",
    "    tgt = f'{process_fname(src)}'\n",
    "    shutil.copy(src, tgt)\n",
    "    manifest_fnames.append(f'data/{tgt}')"
   ]
  },
  {
   "cell_type": "code",
   "execution_count": 34,
   "id": "24d1e7bf-cf49-47a5-b5f1-615069a9b5e7",
   "metadata": {},
   "outputs": [],
   "source": [
    "with open('test.txt', 'w') as fh:\n",
    "    fh.write('\\n'.join(manifest_fnames))"
   ]
  },
  {
   "cell_type": "code",
   "execution_count": null,
   "id": "519140a4-91c1-4fe5-941f-5b77094e6fbe",
   "metadata": {},
   "outputs": [],
   "source": []
  }
 ],
 "metadata": {
  "kernelspec": {
   "display_name": "Python 3 (ipykernel)",
   "language": "python",
   "name": "python3"
  },
  "language_info": {
   "codemirror_mode": {
    "name": "ipython",
    "version": 3
   },
   "file_extension": ".py",
   "mimetype": "text/x-python",
   "name": "python",
   "nbconvert_exporter": "python",
   "pygments_lexer": "ipython3",
   "version": "3.9.4"
  }
 },
 "nbformat": 4,
 "nbformat_minor": 5
}
